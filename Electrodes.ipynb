{
 "cells": [
  {
   "cell_type": "markdown",
   "metadata": {},
   "source": [
    "# Putting all together: Platinum electrode vs Stainless Steel electrode\n",
    "\n",
    "**Comparative LCA | Contribution Analysis | Monte Carlo Simulation**"
   ]
  },
  {
   "cell_type": "markdown",
   "metadata": {},
   "source": [
    "Comparative LCA on the production and use of a Platinum and a Stainless Steel electrode in Microbial Electrlysis Cells for wastewater treatment and hydrogen gas production.\n",
    "\n"
   ]
  },
  {
   "cell_type": "code",
   "execution_count": 100,
   "metadata": {},
   "outputs": [],
   "source": [
    "import brightway2 as bw\n",
    "\n",
    "import os               # to use \"operating system dependent functionality\"\n",
    "import numpy as np      # \"the fundamental package for scientific computing with Python\"\n",
    "import pandas as pd     # \"high-performance, easy-to-use data structures and data analysis tools\" for Python\n",
    "from matplotlib import pyplot as plt\n",
    "from scipy import stats"
   ]
  },
  {
   "cell_type": "code",
   "execution_count": 101,
   "metadata": {},
   "outputs": [],
   "source": [
    "bw.projects.set_current(\"LCA2022\") #you can set the project you created in Day 1 "
   ]
  },
  {
   "cell_type": "code",
   "execution_count": 102,
   "metadata": {},
   "outputs": [
    {
     "data": {
      "text/plain": [
       "Databases dictionary with 10 object(s):\n",
       "\tBottle_DB\n",
       "\tCompounds_DB\n",
       "\tDB_NAME\n",
       "\tElectrodes_DB\n",
       "\tGasoline_DB\n",
       "\tLCstages_DB\n",
       "\tMarker_DB\n",
       "\tWindow_DB\n",
       "\tbiosphere3\n",
       "\tecoinvent 3.8 cutoff"
      ]
     },
     "execution_count": 102,
     "metadata": {},
     "output_type": "execute_result"
    }
   ],
   "source": [
    "bw.databases # you should then already have the biosphere3, ecoinvent and the databases we created during the session today"
   ]
  },
  {
   "cell_type": "markdown",
   "metadata": {},
   "source": [
    "## Solution"
   ]
  },
  {
   "cell_type": "markdown",
   "metadata": {},
   "source": [
    "Remember to start with importing the necessary packages and setting up a project:)"
   ]
  },
  {
   "cell_type": "code",
   "execution_count": 103,
   "metadata": {},
   "outputs": [],
   "source": [
    "ei38 = bw.Database('ecoinvent 3.8 cutoff')\n",
    "bio = bw.Database('biosphere3')"
   ]
  },
  {
   "cell_type": "markdown",
   "metadata": {},
   "source": [
    "### prepare Excel File"
   ]
  },
  {
   "cell_type": "code",
   "execution_count": 105,
   "metadata": {
    "scrolled": true
   },
   "outputs": [
    {
     "name": "stdout",
     "output_type": "stream",
     "text": [
      "Extracted 1 worksheets in 0.07 seconds\n",
      "Applying strategy: csv_restore_tuples\n",
      "Applying strategy: csv_restore_booleans\n",
      "Applying strategy: csv_numerize\n",
      "Applying strategy: csv_drop_unknown\n",
      "Applying strategy: csv_add_missing_exchanges_section\n",
      "Applying strategy: normalize_units\n",
      "Applying strategy: normalize_biosphere_categories\n",
      "Applying strategy: normalize_biosphere_names\n",
      "Applying strategy: strip_biosphere_exc_locations\n",
      "Applying strategy: set_code_by_activity_hash\n",
      "Applying strategy: link_iterable_by_fields\n",
      "Applying strategy: assign_only_product_as_production\n",
      "Applying strategy: link_technosphere_by_activity_hash\n",
      "Applying strategy: drop_falsey_uncertainty_fields_but_keep_zeros\n",
      "Applying strategy: convert_uncertainty_types_to_integers\n",
      "Applying strategy: convert_activity_parameters_to_list\n",
      "Applied 16 strategies in 26.22 seconds\n",
      "Applying strategy: link_iterable_by_fields\n",
      "Applying strategy: link_iterable_by_fields\n",
      "2 datasets\n",
      "8 exchanges\n",
      "0 unlinked exchanges\n",
      "  \n"
     ]
    },
    {
     "data": {
      "text/plain": [
       "(2, 8, 0)"
      ]
     },
     "execution_count": 105,
     "metadata": {},
     "output_type": "execute_result"
    }
   ],
   "source": [
    "imp = bw.ExcelImporter(\"Electrodes.xlsx\")\n",
    "imp.apply_strategies()\n",
    "imp.match_database(\"ecoinvent 3.8 cutoff\", fields=('name','unit','location'))\n",
    "imp.match_database(fields=('name', 'unit', 'location'))\n",
    "imp.statistics()"
   ]
  },
  {
   "cell_type": "code",
   "execution_count": 106,
   "metadata": {},
   "outputs": [
    {
     "name": "stderr",
     "output_type": "stream",
     "text": [
      "Writing activities to SQLite3 database:\n",
      "0% [##] 100% | ETA: 00:00:00\n",
      "Total time elapsed: 00:00:00\n"
     ]
    },
    {
     "name": "stdout",
     "output_type": "stream",
     "text": [
      "Title: Writing activities to SQLite3 database:\n",
      "  Started: 12/11/2023 22:01:58\n",
      "  Finished: 12/11/2023 22:01:58\n",
      "  Total time elapsed: 00:00:00\n",
      "  CPU %: 0.00\n",
      "  Memory %: 3.44\n",
      "Created database: Electrodes_DB\n"
     ]
    }
   ],
   "source": [
    "imp.write_database()"
   ]
  },
  {
   "cell_type": "code",
   "execution_count": 107,
   "metadata": {},
   "outputs": [
    {
     "data": {
      "text/plain": [
       "Databases dictionary with 10 object(s):\n",
       "\tBottle_DB\n",
       "\tCompounds_DB\n",
       "\tDB_NAME\n",
       "\tElectrodes_DB\n",
       "\tGasoline_DB\n",
       "\tLCstages_DB\n",
       "\tMarker_DB\n",
       "\tWindow_DB\n",
       "\tbiosphere3\n",
       "\tecoinvent 3.8 cutoff"
      ]
     },
     "execution_count": 107,
     "metadata": {},
     "output_type": "execute_result"
    }
   ],
   "source": [
    "bw.databases"
   ]
  },
  {
   "cell_type": "code",
   "execution_count": 108,
   "metadata": {},
   "outputs": [],
   "source": [
    "electrodes_DB = bw.Database(\"Electrodes_DB\")"
   ]
  },
  {
   "cell_type": "markdown",
   "metadata": {},
   "source": [
    "### Comparative LCA"
   ]
  },
  {
   "cell_type": "code",
   "execution_count": 109,
   "metadata": {},
   "outputs": [],
   "source": [
    "Platinum = electrodes_DB.get('Pt_activity')"
   ]
  },
  {
   "cell_type": "code",
   "execution_count": 110,
   "metadata": {},
   "outputs": [],
   "source": [
    "StainlessSteel = electrodes_DB.get('SS_activity')"
   ]
  },
  {
   "cell_type": "code",
   "execution_count": 111,
   "metadata": {},
   "outputs": [],
   "source": [
    "methods= bw.methods"
   ]
  },
  {
   "cell_type": "code",
   "execution_count": 112,
   "metadata": {},
   "outputs": [
    {
     "data": {
      "text/plain": [
       "('ReCiPe Midpoint (E) V1.13 no LT', 'climate change', 'GWP500')"
      ]
     },
     "execution_count": 112,
     "metadata": {},
     "output_type": "execute_result"
    }
   ],
   "source": [
    "GWP = [m for m in methods if 'climate change' in str(m) \n",
    "       and 'GWP' in str(m)\n",
    "       and 'ReCiPe Midpoint (E)' in str(m)\n",
    "       and not 'obsolete' in str(m)\n",
    "      ][0]\n",
    "GWP"
   ]
  },
  {
   "cell_type": "code",
   "execution_count": 113,
   "metadata": {},
   "outputs": [
    {
     "data": {
      "text/plain": [
       "('ReCiPe Midpoint (E) V1.13 no LT', 'terrestrial acidification', 'TAP500')"
      ]
     },
     "execution_count": 113,
     "metadata": {},
     "output_type": "execute_result"
    }
   ],
   "source": [
    "AP = [m for m in methods if 'acidification' in str(m) \n",
    "       and not 'obsolete' in str(m) \n",
    "       and 'ReCiPe Midpoint (E)' in str(m)\n",
    "       and 'LT' in str(m)\n",
    "          ][0]\n",
    "AP"
   ]
  },
  {
   "cell_type": "code",
   "execution_count": 114,
   "metadata": {},
   "outputs": [
    {
     "data": {
      "text/plain": [
       "('ReCiPe Midpoint (E) V1.13 no LT', 'freshwater eutrophication', 'FEP')"
      ]
     },
     "execution_count": 114,
     "metadata": {},
     "output_type": "execute_result"
    }
   ],
   "source": [
    "EP = [m for m in methods if 'eutrophication' in str(m) \n",
    "       and not 'obsolete' in str(m)\n",
    "       and 'fresh' in str(m)\n",
    "       and 'ReCiPe Midpoint (E)' in str(m)\n",
    "          ][0]\n",
    "EP"
   ]
  },
  {
   "cell_type": "code",
   "execution_count": 115,
   "metadata": {},
   "outputs": [
    {
     "data": {
      "text/plain": [
       "('ReCiPe Midpoint (E) V1.13 no LT', 'human toxicity', 'HTPinf')"
      ]
     },
     "execution_count": 115,
     "metadata": {},
     "output_type": "execute_result"
    }
   ],
   "source": [
    "HT = [m for m in methods if 'human' in str(m) \n",
    "       and not 'obsolete' in str(m)\n",
    "       and 'toxicity' in str(m)\n",
    "       and 'ReCiPe Midpoint (E)' in str(m)\n",
    "          ][0]\n",
    "HT"
   ]
  },
  {
   "cell_type": "code",
   "execution_count": 116,
   "metadata": {},
   "outputs": [
    {
     "data": {
      "text/plain": [
       "('ReCiPe Midpoint (E) V1.13 no LT', 'ozone depletion', 'ODPinf')"
      ]
     },
     "execution_count": 116,
     "metadata": {},
     "output_type": "execute_result"
    }
   ],
   "source": [
    "OD = [m for m in methods if 'ozone' in str(m) \n",
    "       and 'depletion' in str(m)\n",
    "       and 'ReCiPe Midpoint (E)' in str(m)\n",
    "          ][0]\n",
    "OD"
   ]
  },
  {
   "cell_type": "code",
   "execution_count": 117,
   "metadata": {},
   "outputs": [
    {
     "data": {
      "text/plain": [
       "('ReCiPe Midpoint (E) V1.13 no LT', 'photochemical oxidant formation', 'POFP')"
      ]
     },
     "execution_count": 117,
     "metadata": {},
     "output_type": "execute_result"
    }
   ],
   "source": [
    "POFP = [m for m in methods if 'photochemical' in str(m) \n",
    "       and not 'obsolete' in str(m)\n",
    "       and 'oxidant' in str(m)\n",
    "       and 'ReCiPe Midpoint (E)' in str(m)\n",
    "          ][0]\n",
    "POFP"
   ]
  },
  {
   "cell_type": "code",
   "execution_count": 118,
   "metadata": {},
   "outputs": [],
   "source": [
    "choosen_methods = [GWP,AP,EP,HT,OD,POFP]\n",
    "functional_units =[{Platinum:1},{StainlessSteel:1}]"
   ]
  },
  {
   "cell_type": "code",
   "execution_count": 119,
   "metadata": {},
   "outputs": [],
   "source": [
    "bw.calculation_setups['comparison'] = {'inv': functional_units, 'ia': choosen_methods}"
   ]
  },
  {
   "cell_type": "code",
   "execution_count": 120,
   "metadata": {},
   "outputs": [
    {
     "data": {
      "text/plain": [
       "array([[1.80651254e+00, 1.79050950e-02, 1.14418766e-04, 5.33309125e+00,\n",
       "        5.53804353e-08, 8.38410782e-03],\n",
       "       [1.69978422e-02, 6.39880244e-05, 8.14001880e-07, 5.57215736e-02,\n",
       "        5.16472092e-10, 8.82696532e-05]])"
      ]
     },
     "execution_count": 120,
     "metadata": {},
     "output_type": "execute_result"
    }
   ],
   "source": [
    "mlca = bw.MultiLCA('comparison')\n",
    "mlca.results"
   ]
  },
  {
   "cell_type": "code",
   "execution_count": 121,
   "metadata": {},
   "outputs": [
    {
     "data": {
      "text/plain": [
       "['Pt_activity', 'SS_activity']"
      ]
     },
     "execution_count": 121,
     "metadata": {},
     "output_type": "execute_result"
    }
   ],
   "source": [
    "activity_list = [Platinum, StainlessSteel]\n",
    "activity_list = [ x['name'] for x in activity_list ]\n",
    "activity_list"
   ]
  },
  {
   "cell_type": "code",
   "execution_count": 122,
   "metadata": {},
   "outputs": [
    {
     "data": {
      "text/html": [
       "<div>\n",
       "<style scoped>\n",
       "    .dataframe tbody tr th:only-of-type {\n",
       "        vertical-align: middle;\n",
       "    }\n",
       "\n",
       "    .dataframe tbody tr th {\n",
       "        vertical-align: top;\n",
       "    }\n",
       "\n",
       "    .dataframe thead th {\n",
       "        text-align: right;\n",
       "    }\n",
       "</style>\n",
       "<table border=\"1\" class=\"dataframe\">\n",
       "  <thead>\n",
       "    <tr style=\"text-align: right;\">\n",
       "      <th></th>\n",
       "      <th>(ReCiPe Midpoint (E) V1.13 no LT, climate change, GWP500)</th>\n",
       "      <th>(ReCiPe Midpoint (E) V1.13 no LT, terrestrial acidification, TAP500)</th>\n",
       "      <th>(ReCiPe Midpoint (E) V1.13 no LT, freshwater eutrophication, FEP)</th>\n",
       "      <th>(ReCiPe Midpoint (E) V1.13 no LT, human toxicity, HTPinf)</th>\n",
       "      <th>(ReCiPe Midpoint (E) V1.13 no LT, ozone depletion, ODPinf)</th>\n",
       "      <th>(ReCiPe Midpoint (E) V1.13 no LT, photochemical oxidant formation, POFP)</th>\n",
       "    </tr>\n",
       "  </thead>\n",
       "  <tbody>\n",
       "    <tr>\n",
       "      <th>Pt_activity</th>\n",
       "      <td>1.806513</td>\n",
       "      <td>0.017905</td>\n",
       "      <td>1.144188e-04</td>\n",
       "      <td>5.333091</td>\n",
       "      <td>5.538044e-08</td>\n",
       "      <td>0.008384</td>\n",
       "    </tr>\n",
       "    <tr>\n",
       "      <th>SS_activity</th>\n",
       "      <td>0.016998</td>\n",
       "      <td>0.000064</td>\n",
       "      <td>8.140019e-07</td>\n",
       "      <td>0.055722</td>\n",
       "      <td>5.164721e-10</td>\n",
       "      <td>0.000088</td>\n",
       "    </tr>\n",
       "  </tbody>\n",
       "</table>\n",
       "</div>"
      ],
      "text/plain": [
       "             (ReCiPe Midpoint (E) V1.13 no LT, climate change, GWP500)  \\\n",
       "Pt_activity                                           1.806513           \n",
       "SS_activity                                           0.016998           \n",
       "\n",
       "             (ReCiPe Midpoint (E) V1.13 no LT, terrestrial acidification, TAP500)  \\\n",
       "Pt_activity                                           0.017905                      \n",
       "SS_activity                                           0.000064                      \n",
       "\n",
       "             (ReCiPe Midpoint (E) V1.13 no LT, freshwater eutrophication, FEP)  \\\n",
       "Pt_activity                                       1.144188e-04                   \n",
       "SS_activity                                       8.140019e-07                   \n",
       "\n",
       "             (ReCiPe Midpoint (E) V1.13 no LT, human toxicity, HTPinf)  \\\n",
       "Pt_activity                                           5.333091           \n",
       "SS_activity                                           0.055722           \n",
       "\n",
       "             (ReCiPe Midpoint (E) V1.13 no LT, ozone depletion, ODPinf)  \\\n",
       "Pt_activity                                       5.538044e-08            \n",
       "SS_activity                                       5.164721e-10            \n",
       "\n",
       "             (ReCiPe Midpoint (E) V1.13 no LT, photochemical oxidant formation, POFP)  \n",
       "Pt_activity                                           0.008384                         \n",
       "SS_activity                                           0.000088                         "
      ]
     },
     "execution_count": 122,
     "metadata": {},
     "output_type": "execute_result"
    }
   ],
   "source": [
    "df_results = pd.DataFrame(index=activity_list, columns=choosen_methods, data=mlca.results)\n",
    "df_results"
   ]
  },
  {
   "cell_type": "markdown",
   "metadata": {},
   "source": [
    "### Contributional Analysis"
   ]
  },
  {
   "cell_type": "code",
   "execution_count": 123,
   "metadata": {},
   "outputs": [],
   "source": [
    "from bw2analyzer import ContributionAnalysis"
   ]
  },
  {
   "cell_type": "code",
   "execution_count": 124,
   "metadata": {},
   "outputs": [],
   "source": [
    "methods = [GWP,AP,EP,HT,OD,POFP]\n",
    "string_methods = ['GWP','AP','EP','HT','OD','POFP']\n",
    "\n",
    "LCA_Pt_activity = []\n",
    "\n",
    "LCA_SS_activity = []\n",
    "\n",
    "Pt_activity = electrodes_DB.get('Pt_activity')\n",
    "SS_activity = electrodes_DB.get('SS_activity')\n"
   ]
  },
  {
   "cell_type": "code",
   "execution_count": 125,
   "metadata": {},
   "outputs": [
    {
     "name": "stdout",
     "output_type": "stream",
     "text": [
      "[1.8065125394043444, 0.017905094994314384, 0.00011441876639455492, 5.333091248749325, 5.5380435332040356e-08, 0.008384107823487]\n"
     ]
    }
   ],
   "source": [
    "for i in methods:\n",
    "    Pt_activity_lca = bw.LCA({Pt_activity:1}, i)\n",
    "    Pt_activity_lca.lci()\n",
    "    Pt_activity_lca.lcia()\n",
    "    LCA_Pt_activity.append(Pt_activity_lca.score)\n",
    "\n",
    "    ContributionAnalysis().annotated_top_processes(Pt_activity_lca, limit=10)\n",
    "\n",
    "print(LCA_Pt_activity)"
   ]
  },
  {
   "cell_type": "code",
   "execution_count": 126,
   "metadata": {},
   "outputs": [
    {
     "data": {
      "text/plain": [
       "blasting                                                                0.001652\n",
       "blasting                                                                0.000816\n",
       "electricity production, hard coal, conventional                         0.000744\n",
       "platinum group metal mine operation, ore with high palladium content    0.000501\n",
       "diesel, burned in building machine                                      0.000193\n",
       "dtype: float64"
      ]
     },
     "execution_count": 126,
     "metadata": {},
     "output_type": "execute_result"
    }
   ],
   "source": [
    "results_by_activity = (Pt_activity_lca.characterized_inventory.sum(axis=0)).A1\n",
    "Pt_activity_lca_rev_act_dict, Pt_activity_lca_rev_product_dict, Pt_activity_lca_rev_bio_dict = Pt_activity_lca.reverse_dict()\n",
    "list_of_names_in_columns = [bw.get_activity(Pt_activity_lca_rev_act_dict[col])['name'] \n",
    "                            for col in range(Pt_activity_lca.characterized_inventory.shape[1])]\n",
    "pd.Series(index=list_of_names_in_columns, data=results_by_activity).sort_values(ascending=False).head(5)"
   ]
  },
  {
   "cell_type": "code",
   "execution_count": 127,
   "metadata": {},
   "outputs": [
    {
     "name": "stdout",
     "output_type": "stream",
     "text": [
      "[0.01699784215785867, 6.398802441815425e-05, 8.140018796591395e-07, 0.055721573619649925, 5.164720924002316e-10, 8.826965319627305e-05]\n"
     ]
    }
   ],
   "source": [
    "for i in methods:\n",
    "    SS_activity_lca = bw.LCA({SS_activity:1}, i)\n",
    "    SS_activity_lca.lci()\n",
    "    SS_activity_lca.lcia()\n",
    "    LCA_SS_activity.append(SS_activity_lca.score)\n",
    "\n",
    "    ContributionAnalysis().annotated_top_processes(SS_activity_lca, limit=10)\n",
    "\n",
    "print(LCA_SS_activity)"
   ]
  },
  {
   "cell_type": "code",
   "execution_count": 128,
   "metadata": {},
   "outputs": [
    {
     "data": {
      "text/plain": [
       "coking                                                 0.000034\n",
       "iron sinter production                                 0.000011\n",
       "transport, freight, sea, bulk carrier for dry goods    0.000009\n",
       "blasting                                               0.000003\n",
       "diesel, burned in building machine                     0.000003\n",
       "dtype: float64"
      ]
     },
     "execution_count": 128,
     "metadata": {},
     "output_type": "execute_result"
    }
   ],
   "source": [
    "results_by_activity = (SS_activity_lca.characterized_inventory.sum(axis=0)).A1\n",
    "SS_activity_lca_rev_act_dict, SS_activity_lca_rev_product_dict, SS_activity_lca_rev_bio_dict = SS_activity_lca.reverse_dict()\n",
    "list_of_names_in_columns = [bw.get_activity(SS_activity_lca_rev_act_dict[col])['name'] \n",
    "                            for col in range(SS_activity_lca.characterized_inventory.shape[1])]\n",
    "pd.Series(index=list_of_names_in_columns, data=results_by_activity).sort_values(ascending=False).head(5)"
   ]
  },
  {
   "cell_type": "markdown",
   "metadata": {},
   "source": [
    "### Monte Carlo Simulation"
   ]
  },
  {
   "cell_type": "code",
   "execution_count": 129,
   "metadata": {},
   "outputs": [
    {
     "data": {
      "text/plain": [
       "[('ReCiPe Midpoint (E) V1.13 no LT', 'climate change', 'GWP500'),\n",
       " ('ReCiPe Midpoint (E) V1.13 no LT', 'terrestrial acidification', 'TAP500'),\n",
       " ('ReCiPe Midpoint (E) V1.13 no LT', 'freshwater eutrophication', 'FEP'),\n",
       " ('ReCiPe Midpoint (E) V1.13 no LT', 'human toxicity', 'HTPinf'),\n",
       " ('ReCiPe Midpoint (E) V1.13 no LT', 'ozone depletion', 'ODPinf'),\n",
       " ('ReCiPe Midpoint (E) V1.13 no LT',\n",
       "  'photochemical oxidant formation',\n",
       "  'POFP')]"
      ]
     },
     "execution_count": 129,
     "metadata": {},
     "output_type": "execute_result"
    }
   ],
   "source": [
    "demand2 = [{Platinum:1},{StainlessSteel:1}]\n",
    "choosen_methods"
   ]
  },
  {
   "cell_type": "code",
   "execution_count": 130,
   "metadata": {},
   "outputs": [
    {
     "data": {
      "text/html": [
       "<div>\n",
       "<style scoped>\n",
       "    .dataframe tbody tr th:only-of-type {\n",
       "        vertical-align: middle;\n",
       "    }\n",
       "\n",
       "    .dataframe tbody tr th {\n",
       "        vertical-align: top;\n",
       "    }\n",
       "\n",
       "    .dataframe thead th {\n",
       "        text-align: right;\n",
       "    }\n",
       "</style>\n",
       "<table border=\"1\" class=\"dataframe\">\n",
       "  <thead>\n",
       "    <tr style=\"text-align: right;\">\n",
       "      <th></th>\n",
       "      <th>Platinum</th>\n",
       "      <th>StainlessSteel</th>\n",
       "    </tr>\n",
       "  </thead>\n",
       "  <tbody>\n",
       "    <tr>\n",
       "      <th>0</th>\n",
       "      <td>1.848818</td>\n",
       "      <td>0.017142</td>\n",
       "    </tr>\n",
       "    <tr>\n",
       "      <th>1</th>\n",
       "      <td>1.948043</td>\n",
       "      <td>0.018727</td>\n",
       "    </tr>\n",
       "    <tr>\n",
       "      <th>2</th>\n",
       "      <td>2.018322</td>\n",
       "      <td>0.017383</td>\n",
       "    </tr>\n",
       "    <tr>\n",
       "      <th>3</th>\n",
       "      <td>2.023374</td>\n",
       "      <td>0.020110</td>\n",
       "    </tr>\n",
       "    <tr>\n",
       "      <th>4</th>\n",
       "      <td>1.903325</td>\n",
       "      <td>0.017160</td>\n",
       "    </tr>\n",
       "    <tr>\n",
       "      <th>5</th>\n",
       "      <td>2.274199</td>\n",
       "      <td>0.019250</td>\n",
       "    </tr>\n",
       "    <tr>\n",
       "      <th>6</th>\n",
       "      <td>2.024074</td>\n",
       "      <td>0.016744</td>\n",
       "    </tr>\n",
       "    <tr>\n",
       "      <th>7</th>\n",
       "      <td>1.742971</td>\n",
       "      <td>0.016377</td>\n",
       "    </tr>\n",
       "    <tr>\n",
       "      <th>8</th>\n",
       "      <td>1.781125</td>\n",
       "      <td>0.018608</td>\n",
       "    </tr>\n",
       "    <tr>\n",
       "      <th>9</th>\n",
       "      <td>1.782626</td>\n",
       "      <td>0.017616</td>\n",
       "    </tr>\n",
       "    <tr>\n",
       "      <th>10</th>\n",
       "      <td>1.879659</td>\n",
       "      <td>0.017444</td>\n",
       "    </tr>\n",
       "    <tr>\n",
       "      <th>11</th>\n",
       "      <td>1.988378</td>\n",
       "      <td>0.018829</td>\n",
       "    </tr>\n",
       "    <tr>\n",
       "      <th>12</th>\n",
       "      <td>1.984912</td>\n",
       "      <td>0.018431</td>\n",
       "    </tr>\n",
       "    <tr>\n",
       "      <th>13</th>\n",
       "      <td>2.024903</td>\n",
       "      <td>0.019891</td>\n",
       "    </tr>\n",
       "    <tr>\n",
       "      <th>14</th>\n",
       "      <td>1.873822</td>\n",
       "      <td>0.018877</td>\n",
       "    </tr>\n",
       "    <tr>\n",
       "      <th>15</th>\n",
       "      <td>2.026019</td>\n",
       "      <td>0.017754</td>\n",
       "    </tr>\n",
       "    <tr>\n",
       "      <th>16</th>\n",
       "      <td>1.833594</td>\n",
       "      <td>0.017911</td>\n",
       "    </tr>\n",
       "    <tr>\n",
       "      <th>17</th>\n",
       "      <td>2.029704</td>\n",
       "      <td>0.018649</td>\n",
       "    </tr>\n",
       "    <tr>\n",
       "      <th>18</th>\n",
       "      <td>1.967272</td>\n",
       "      <td>0.017828</td>\n",
       "    </tr>\n",
       "    <tr>\n",
       "      <th>19</th>\n",
       "      <td>1.875011</td>\n",
       "      <td>0.016593</td>\n",
       "    </tr>\n",
       "  </tbody>\n",
       "</table>\n",
       "</div>"
      ],
      "text/plain": [
       "    Platinum  StainlessSteel\n",
       "0   1.848818        0.017142\n",
       "1   1.948043        0.018727\n",
       "2   2.018322        0.017383\n",
       "3   2.023374        0.020110\n",
       "4   1.903325        0.017160\n",
       "5   2.274199        0.019250\n",
       "6   2.024074        0.016744\n",
       "7   1.742971        0.016377\n",
       "8   1.781125        0.018608\n",
       "9   1.782626        0.017616\n",
       "10  1.879659        0.017444\n",
       "11  1.988378        0.018829\n",
       "12  1.984912        0.018431\n",
       "13  2.024903        0.019891\n",
       "14  1.873822        0.018877\n",
       "15  2.026019        0.017754\n",
       "16  1.833594        0.017911\n",
       "17  2.029704        0.018649\n",
       "18  1.967272        0.017828\n",
       "19  1.875011        0.016593"
      ]
     },
     "execution_count": 130,
     "metadata": {},
     "output_type": "execute_result"
    }
   ],
   "source": [
    "mc = bw.MonteCarloLCA(demand2[0], GWP)\n",
    "iterations = 20\n",
    "simulations = []\n",
    "\n",
    "for _ in range(iterations):\n",
    "    next(mc)\n",
    "    mcresults= []    \n",
    "    for i in demand2:\n",
    "        mc.redo_lcia(i)\n",
    "        mcresults.append(mc.score)\n",
    "    simulations.append(mcresults)\n",
    "    \n",
    "df_GWP2 = pd.DataFrame(simulations, columns =['Platinum', 'StainlessSteel'])\n",
    "\n",
    "df_GWP2"
   ]
  },
  {
   "cell_type": "code",
   "execution_count": 131,
   "metadata": {},
   "outputs": [
    {
     "data": {
      "text/html": [
       "<div>\n",
       "<style scoped>\n",
       "    .dataframe tbody tr th:only-of-type {\n",
       "        vertical-align: middle;\n",
       "    }\n",
       "\n",
       "    .dataframe tbody tr th {\n",
       "        vertical-align: top;\n",
       "    }\n",
       "\n",
       "    .dataframe thead th {\n",
       "        text-align: right;\n",
       "    }\n",
       "</style>\n",
       "<table border=\"1\" class=\"dataframe\">\n",
       "  <thead>\n",
       "    <tr style=\"text-align: right;\">\n",
       "      <th></th>\n",
       "      <th>Platinum</th>\n",
       "      <th>StainlessSteel</th>\n",
       "    </tr>\n",
       "  </thead>\n",
       "  <tbody>\n",
       "    <tr>\n",
       "      <th>0</th>\n",
       "      <td>0.016918</td>\n",
       "      <td>0.000091</td>\n",
       "    </tr>\n",
       "    <tr>\n",
       "      <th>1</th>\n",
       "      <td>0.016968</td>\n",
       "      <td>0.000069</td>\n",
       "    </tr>\n",
       "    <tr>\n",
       "      <th>2</th>\n",
       "      <td>0.020445</td>\n",
       "      <td>0.000080</td>\n",
       "    </tr>\n",
       "    <tr>\n",
       "      <th>3</th>\n",
       "      <td>0.017653</td>\n",
       "      <td>0.000071</td>\n",
       "    </tr>\n",
       "    <tr>\n",
       "      <th>4</th>\n",
       "      <td>0.022872</td>\n",
       "      <td>0.000067</td>\n",
       "    </tr>\n",
       "    <tr>\n",
       "      <th>5</th>\n",
       "      <td>0.019530</td>\n",
       "      <td>0.000077</td>\n",
       "    </tr>\n",
       "    <tr>\n",
       "      <th>6</th>\n",
       "      <td>0.023932</td>\n",
       "      <td>0.000084</td>\n",
       "    </tr>\n",
       "    <tr>\n",
       "      <th>7</th>\n",
       "      <td>0.017433</td>\n",
       "      <td>0.000073</td>\n",
       "    </tr>\n",
       "    <tr>\n",
       "      <th>8</th>\n",
       "      <td>0.018694</td>\n",
       "      <td>0.000061</td>\n",
       "    </tr>\n",
       "    <tr>\n",
       "      <th>9</th>\n",
       "      <td>0.018617</td>\n",
       "      <td>0.000069</td>\n",
       "    </tr>\n",
       "    <tr>\n",
       "      <th>10</th>\n",
       "      <td>0.017267</td>\n",
       "      <td>0.000059</td>\n",
       "    </tr>\n",
       "    <tr>\n",
       "      <th>11</th>\n",
       "      <td>0.019743</td>\n",
       "      <td>0.000075</td>\n",
       "    </tr>\n",
       "    <tr>\n",
       "      <th>12</th>\n",
       "      <td>0.019836</td>\n",
       "      <td>0.000079</td>\n",
       "    </tr>\n",
       "    <tr>\n",
       "      <th>13</th>\n",
       "      <td>0.017667</td>\n",
       "      <td>0.000085</td>\n",
       "    </tr>\n",
       "    <tr>\n",
       "      <th>14</th>\n",
       "      <td>0.018327</td>\n",
       "      <td>0.000092</td>\n",
       "    </tr>\n",
       "    <tr>\n",
       "      <th>15</th>\n",
       "      <td>0.022603</td>\n",
       "      <td>0.000080</td>\n",
       "    </tr>\n",
       "    <tr>\n",
       "      <th>16</th>\n",
       "      <td>0.018954</td>\n",
       "      <td>0.000115</td>\n",
       "    </tr>\n",
       "    <tr>\n",
       "      <th>17</th>\n",
       "      <td>0.018814</td>\n",
       "      <td>0.000073</td>\n",
       "    </tr>\n",
       "    <tr>\n",
       "      <th>18</th>\n",
       "      <td>0.020124</td>\n",
       "      <td>0.000078</td>\n",
       "    </tr>\n",
       "    <tr>\n",
       "      <th>19</th>\n",
       "      <td>0.017882</td>\n",
       "      <td>0.000079</td>\n",
       "    </tr>\n",
       "  </tbody>\n",
       "</table>\n",
       "</div>"
      ],
      "text/plain": [
       "    Platinum  StainlessSteel\n",
       "0   0.016918        0.000091\n",
       "1   0.016968        0.000069\n",
       "2   0.020445        0.000080\n",
       "3   0.017653        0.000071\n",
       "4   0.022872        0.000067\n",
       "5   0.019530        0.000077\n",
       "6   0.023932        0.000084\n",
       "7   0.017433        0.000073\n",
       "8   0.018694        0.000061\n",
       "9   0.018617        0.000069\n",
       "10  0.017267        0.000059\n",
       "11  0.019743        0.000075\n",
       "12  0.019836        0.000079\n",
       "13  0.017667        0.000085\n",
       "14  0.018327        0.000092\n",
       "15  0.022603        0.000080\n",
       "16  0.018954        0.000115\n",
       "17  0.018814        0.000073\n",
       "18  0.020124        0.000078\n",
       "19  0.017882        0.000079"
      ]
     },
     "execution_count": 131,
     "metadata": {},
     "output_type": "execute_result"
    }
   ],
   "source": [
    "mc = bw.MonteCarloLCA(demand2[0], AP)\n",
    "iterations = 20\n",
    "simulations = []\n",
    "\n",
    "for _ in range(iterations):\n",
    "    next(mc)\n",
    "    mcresults= []    \n",
    "    for i in demand2:\n",
    "        mc.redo_lcia(i)\n",
    "        mcresults.append(mc.score)\n",
    "    simulations.append(mcresults)\n",
    "    \n",
    "df_AP = pd.DataFrame(simulations, columns =['Platinum', 'StainlessSteel'])\n",
    "df_AP"
   ]
  },
  {
   "cell_type": "code",
   "execution_count": 132,
   "metadata": {},
   "outputs": [
    {
     "data": {
      "text/html": [
       "<div>\n",
       "<style scoped>\n",
       "    .dataframe tbody tr th:only-of-type {\n",
       "        vertical-align: middle;\n",
       "    }\n",
       "\n",
       "    .dataframe tbody tr th {\n",
       "        vertical-align: top;\n",
       "    }\n",
       "\n",
       "    .dataframe thead th {\n",
       "        text-align: right;\n",
       "    }\n",
       "</style>\n",
       "<table border=\"1\" class=\"dataframe\">\n",
       "  <thead>\n",
       "    <tr style=\"text-align: right;\">\n",
       "      <th></th>\n",
       "      <th>Platinum</th>\n",
       "      <th>StainlessSteel</th>\n",
       "    </tr>\n",
       "  </thead>\n",
       "  <tbody>\n",
       "    <tr>\n",
       "      <th>0</th>\n",
       "      <td>0.000169</td>\n",
       "      <td>9.501421e-07</td>\n",
       "    </tr>\n",
       "    <tr>\n",
       "      <th>1</th>\n",
       "      <td>0.000186</td>\n",
       "      <td>1.824305e-06</td>\n",
       "    </tr>\n",
       "    <tr>\n",
       "      <th>2</th>\n",
       "      <td>0.000144</td>\n",
       "      <td>8.235156e-07</td>\n",
       "    </tr>\n",
       "    <tr>\n",
       "      <th>3</th>\n",
       "      <td>0.000027</td>\n",
       "      <td>1.839459e-07</td>\n",
       "    </tr>\n",
       "    <tr>\n",
       "      <th>4</th>\n",
       "      <td>0.000062</td>\n",
       "      <td>1.838310e-07</td>\n",
       "    </tr>\n",
       "    <tr>\n",
       "      <th>5</th>\n",
       "      <td>0.000146</td>\n",
       "      <td>9.858467e-07</td>\n",
       "    </tr>\n",
       "    <tr>\n",
       "      <th>6</th>\n",
       "      <td>0.000083</td>\n",
       "      <td>6.545912e-07</td>\n",
       "    </tr>\n",
       "    <tr>\n",
       "      <th>7</th>\n",
       "      <td>0.000269</td>\n",
       "      <td>1.072897e-06</td>\n",
       "    </tr>\n",
       "    <tr>\n",
       "      <th>8</th>\n",
       "      <td>0.000087</td>\n",
       "      <td>7.407371e-07</td>\n",
       "    </tr>\n",
       "    <tr>\n",
       "      <th>9</th>\n",
       "      <td>0.000206</td>\n",
       "      <td>1.501439e-06</td>\n",
       "    </tr>\n",
       "    <tr>\n",
       "      <th>10</th>\n",
       "      <td>0.000149</td>\n",
       "      <td>5.820531e-07</td>\n",
       "    </tr>\n",
       "    <tr>\n",
       "      <th>11</th>\n",
       "      <td>0.000191</td>\n",
       "      <td>1.022823e-06</td>\n",
       "    </tr>\n",
       "    <tr>\n",
       "      <th>12</th>\n",
       "      <td>0.000292</td>\n",
       "      <td>2.150067e-06</td>\n",
       "    </tr>\n",
       "    <tr>\n",
       "      <th>13</th>\n",
       "      <td>0.000158</td>\n",
       "      <td>1.636983e-06</td>\n",
       "    </tr>\n",
       "    <tr>\n",
       "      <th>14</th>\n",
       "      <td>0.000254</td>\n",
       "      <td>8.838206e-07</td>\n",
       "    </tr>\n",
       "    <tr>\n",
       "      <th>15</th>\n",
       "      <td>0.000147</td>\n",
       "      <td>1.259533e-06</td>\n",
       "    </tr>\n",
       "    <tr>\n",
       "      <th>16</th>\n",
       "      <td>0.000278</td>\n",
       "      <td>2.149319e-06</td>\n",
       "    </tr>\n",
       "    <tr>\n",
       "      <th>17</th>\n",
       "      <td>0.000108</td>\n",
       "      <td>9.858792e-07</td>\n",
       "    </tr>\n",
       "    <tr>\n",
       "      <th>18</th>\n",
       "      <td>0.000036</td>\n",
       "      <td>2.306562e-07</td>\n",
       "    </tr>\n",
       "    <tr>\n",
       "      <th>19</th>\n",
       "      <td>0.000074</td>\n",
       "      <td>7.437186e-07</td>\n",
       "    </tr>\n",
       "  </tbody>\n",
       "</table>\n",
       "</div>"
      ],
      "text/plain": [
       "    Platinum  StainlessSteel\n",
       "0   0.000169    9.501421e-07\n",
       "1   0.000186    1.824305e-06\n",
       "2   0.000144    8.235156e-07\n",
       "3   0.000027    1.839459e-07\n",
       "4   0.000062    1.838310e-07\n",
       "5   0.000146    9.858467e-07\n",
       "6   0.000083    6.545912e-07\n",
       "7   0.000269    1.072897e-06\n",
       "8   0.000087    7.407371e-07\n",
       "9   0.000206    1.501439e-06\n",
       "10  0.000149    5.820531e-07\n",
       "11  0.000191    1.022823e-06\n",
       "12  0.000292    2.150067e-06\n",
       "13  0.000158    1.636983e-06\n",
       "14  0.000254    8.838206e-07\n",
       "15  0.000147    1.259533e-06\n",
       "16  0.000278    2.149319e-06\n",
       "17  0.000108    9.858792e-07\n",
       "18  0.000036    2.306562e-07\n",
       "19  0.000074    7.437186e-07"
      ]
     },
     "execution_count": 132,
     "metadata": {},
     "output_type": "execute_result"
    }
   ],
   "source": [
    "mc = bw.MonteCarloLCA(demand2[0], EP)\n",
    "iterations = 20\n",
    "simulations = []\n",
    "\n",
    "for _ in range(iterations):\n",
    "    next(mc)\n",
    "    mcresults= []    \n",
    "    for i in demand2:\n",
    "        mc.redo_lcia(i)\n",
    "        mcresults.append(mc.score)\n",
    "    simulations.append(mcresults)\n",
    "    \n",
    "df_EP = pd.DataFrame(simulations, columns =['Platinum', 'StainlessSteel'])\n",
    "df_EP"
   ]
  },
  {
   "cell_type": "code",
   "execution_count": 133,
   "metadata": {},
   "outputs": [
    {
     "data": {
      "text/html": [
       "<div>\n",
       "<style scoped>\n",
       "    .dataframe tbody tr th:only-of-type {\n",
       "        vertical-align: middle;\n",
       "    }\n",
       "\n",
       "    .dataframe tbody tr th {\n",
       "        vertical-align: top;\n",
       "    }\n",
       "\n",
       "    .dataframe thead th {\n",
       "        text-align: right;\n",
       "    }\n",
       "</style>\n",
       "<table border=\"1\" class=\"dataframe\">\n",
       "  <thead>\n",
       "    <tr style=\"text-align: right;\">\n",
       "      <th></th>\n",
       "      <th>Platinum</th>\n",
       "      <th>StainlessSteel</th>\n",
       "    </tr>\n",
       "  </thead>\n",
       "  <tbody>\n",
       "    <tr>\n",
       "      <th>0</th>\n",
       "      <td>13.975177</td>\n",
       "      <td>0.170949</td>\n",
       "    </tr>\n",
       "    <tr>\n",
       "      <th>1</th>\n",
       "      <td>5.543667</td>\n",
       "      <td>0.145803</td>\n",
       "    </tr>\n",
       "    <tr>\n",
       "      <th>2</th>\n",
       "      <td>10.697814</td>\n",
       "      <td>0.052056</td>\n",
       "    </tr>\n",
       "    <tr>\n",
       "      <th>3</th>\n",
       "      <td>5.530712</td>\n",
       "      <td>0.059209</td>\n",
       "    </tr>\n",
       "    <tr>\n",
       "      <th>4</th>\n",
       "      <td>10.223980</td>\n",
       "      <td>0.078018</td>\n",
       "    </tr>\n",
       "    <tr>\n",
       "      <th>5</th>\n",
       "      <td>9.186841</td>\n",
       "      <td>0.066660</td>\n",
       "    </tr>\n",
       "    <tr>\n",
       "      <th>6</th>\n",
       "      <td>10.813156</td>\n",
       "      <td>0.073391</td>\n",
       "    </tr>\n",
       "    <tr>\n",
       "      <th>7</th>\n",
       "      <td>7.358229</td>\n",
       "      <td>0.469836</td>\n",
       "    </tr>\n",
       "    <tr>\n",
       "      <th>8</th>\n",
       "      <td>7.932841</td>\n",
       "      <td>0.173703</td>\n",
       "    </tr>\n",
       "    <tr>\n",
       "      <th>9</th>\n",
       "      <td>5.800268</td>\n",
       "      <td>0.101675</td>\n",
       "    </tr>\n",
       "    <tr>\n",
       "      <th>10</th>\n",
       "      <td>7.606326</td>\n",
       "      <td>0.087510</td>\n",
       "    </tr>\n",
       "    <tr>\n",
       "      <th>11</th>\n",
       "      <td>5.461786</td>\n",
       "      <td>0.091414</td>\n",
       "    </tr>\n",
       "    <tr>\n",
       "      <th>12</th>\n",
       "      <td>10.600672</td>\n",
       "      <td>0.232700</td>\n",
       "    </tr>\n",
       "    <tr>\n",
       "      <th>13</th>\n",
       "      <td>7.153241</td>\n",
       "      <td>0.105362</td>\n",
       "    </tr>\n",
       "    <tr>\n",
       "      <th>14</th>\n",
       "      <td>11.510983</td>\n",
       "      <td>0.083619</td>\n",
       "    </tr>\n",
       "    <tr>\n",
       "      <th>15</th>\n",
       "      <td>11.499417</td>\n",
       "      <td>0.125995</td>\n",
       "    </tr>\n",
       "    <tr>\n",
       "      <th>16</th>\n",
       "      <td>8.850623</td>\n",
       "      <td>0.095058</td>\n",
       "    </tr>\n",
       "    <tr>\n",
       "      <th>17</th>\n",
       "      <td>7.759222</td>\n",
       "      <td>0.061297</td>\n",
       "    </tr>\n",
       "    <tr>\n",
       "      <th>18</th>\n",
       "      <td>9.059891</td>\n",
       "      <td>0.069205</td>\n",
       "    </tr>\n",
       "    <tr>\n",
       "      <th>19</th>\n",
       "      <td>8.278169</td>\n",
       "      <td>0.052324</td>\n",
       "    </tr>\n",
       "  </tbody>\n",
       "</table>\n",
       "</div>"
      ],
      "text/plain": [
       "     Platinum  StainlessSteel\n",
       "0   13.975177        0.170949\n",
       "1    5.543667        0.145803\n",
       "2   10.697814        0.052056\n",
       "3    5.530712        0.059209\n",
       "4   10.223980        0.078018\n",
       "5    9.186841        0.066660\n",
       "6   10.813156        0.073391\n",
       "7    7.358229        0.469836\n",
       "8    7.932841        0.173703\n",
       "9    5.800268        0.101675\n",
       "10   7.606326        0.087510\n",
       "11   5.461786        0.091414\n",
       "12  10.600672        0.232700\n",
       "13   7.153241        0.105362\n",
       "14  11.510983        0.083619\n",
       "15  11.499417        0.125995\n",
       "16   8.850623        0.095058\n",
       "17   7.759222        0.061297\n",
       "18   9.059891        0.069205\n",
       "19   8.278169        0.052324"
      ]
     },
     "execution_count": 133,
     "metadata": {},
     "output_type": "execute_result"
    }
   ],
   "source": [
    "mc = bw.MonteCarloLCA(demand2[0], HT)\n",
    "iterations = 20\n",
    "simulations = []\n",
    "\n",
    "for _ in range(iterations):\n",
    "    next(mc)\n",
    "    mcresults= []    \n",
    "    for i in demand2:\n",
    "        mc.redo_lcia(i)\n",
    "        mcresults.append(mc.score)\n",
    "    simulations.append(mcresults)\n",
    "    \n",
    "df_HT = pd.DataFrame(simulations, columns =['Platinum', 'StainlessSteel'])\n",
    "df_HT"
   ]
  },
  {
   "cell_type": "code",
   "execution_count": 134,
   "metadata": {},
   "outputs": [
    {
     "data": {
      "text/html": [
       "<div>\n",
       "<style scoped>\n",
       "    .dataframe tbody tr th:only-of-type {\n",
       "        vertical-align: middle;\n",
       "    }\n",
       "\n",
       "    .dataframe tbody tr th {\n",
       "        vertical-align: top;\n",
       "    }\n",
       "\n",
       "    .dataframe thead th {\n",
       "        text-align: right;\n",
       "    }\n",
       "</style>\n",
       "<table border=\"1\" class=\"dataframe\">\n",
       "  <thead>\n",
       "    <tr style=\"text-align: right;\">\n",
       "      <th></th>\n",
       "      <th>Platinum</th>\n",
       "      <th>StainlessSteel</th>\n",
       "    </tr>\n",
       "  </thead>\n",
       "  <tbody>\n",
       "    <tr>\n",
       "      <th>0</th>\n",
       "      <td>1.386452e-07</td>\n",
       "      <td>1.376538e-09</td>\n",
       "    </tr>\n",
       "    <tr>\n",
       "      <th>1</th>\n",
       "      <td>6.361300e-08</td>\n",
       "      <td>6.337450e-10</td>\n",
       "    </tr>\n",
       "    <tr>\n",
       "      <th>2</th>\n",
       "      <td>7.286463e-08</td>\n",
       "      <td>7.918197e-10</td>\n",
       "    </tr>\n",
       "    <tr>\n",
       "      <th>3</th>\n",
       "      <td>1.156062e-07</td>\n",
       "      <td>7.428331e-10</td>\n",
       "    </tr>\n",
       "    <tr>\n",
       "      <th>4</th>\n",
       "      <td>6.750593e-08</td>\n",
       "      <td>7.266034e-10</td>\n",
       "    </tr>\n",
       "    <tr>\n",
       "      <th>5</th>\n",
       "      <td>8.974107e-08</td>\n",
       "      <td>9.867081e-10</td>\n",
       "    </tr>\n",
       "    <tr>\n",
       "      <th>6</th>\n",
       "      <td>8.063980e-08</td>\n",
       "      <td>8.347409e-10</td>\n",
       "    </tr>\n",
       "    <tr>\n",
       "      <th>7</th>\n",
       "      <td>7.554380e-08</td>\n",
       "      <td>1.051696e-09</td>\n",
       "    </tr>\n",
       "    <tr>\n",
       "      <th>8</th>\n",
       "      <td>5.884574e-08</td>\n",
       "      <td>5.230014e-10</td>\n",
       "    </tr>\n",
       "    <tr>\n",
       "      <th>9</th>\n",
       "      <td>8.447230e-08</td>\n",
       "      <td>5.728627e-10</td>\n",
       "    </tr>\n",
       "    <tr>\n",
       "      <th>10</th>\n",
       "      <td>1.022579e-07</td>\n",
       "      <td>1.193137e-09</td>\n",
       "    </tr>\n",
       "    <tr>\n",
       "      <th>11</th>\n",
       "      <td>6.510640e-08</td>\n",
       "      <td>7.080647e-10</td>\n",
       "    </tr>\n",
       "    <tr>\n",
       "      <th>12</th>\n",
       "      <td>6.829946e-08</td>\n",
       "      <td>7.300444e-10</td>\n",
       "    </tr>\n",
       "    <tr>\n",
       "      <th>13</th>\n",
       "      <td>6.506861e-08</td>\n",
       "      <td>5.529837e-10</td>\n",
       "    </tr>\n",
       "    <tr>\n",
       "      <th>14</th>\n",
       "      <td>8.460536e-08</td>\n",
       "      <td>1.088864e-09</td>\n",
       "    </tr>\n",
       "    <tr>\n",
       "      <th>15</th>\n",
       "      <td>2.098193e-07</td>\n",
       "      <td>1.099940e-09</td>\n",
       "    </tr>\n",
       "    <tr>\n",
       "      <th>16</th>\n",
       "      <td>6.630913e-08</td>\n",
       "      <td>5.832614e-10</td>\n",
       "    </tr>\n",
       "    <tr>\n",
       "      <th>17</th>\n",
       "      <td>5.758938e-08</td>\n",
       "      <td>5.437931e-10</td>\n",
       "    </tr>\n",
       "    <tr>\n",
       "      <th>18</th>\n",
       "      <td>7.547246e-08</td>\n",
       "      <td>6.734050e-10</td>\n",
       "    </tr>\n",
       "    <tr>\n",
       "      <th>19</th>\n",
       "      <td>5.480854e-08</td>\n",
       "      <td>5.497915e-10</td>\n",
       "    </tr>\n",
       "  </tbody>\n",
       "</table>\n",
       "</div>"
      ],
      "text/plain": [
       "        Platinum  StainlessSteel\n",
       "0   1.386452e-07    1.376538e-09\n",
       "1   6.361300e-08    6.337450e-10\n",
       "2   7.286463e-08    7.918197e-10\n",
       "3   1.156062e-07    7.428331e-10\n",
       "4   6.750593e-08    7.266034e-10\n",
       "5   8.974107e-08    9.867081e-10\n",
       "6   8.063980e-08    8.347409e-10\n",
       "7   7.554380e-08    1.051696e-09\n",
       "8   5.884574e-08    5.230014e-10\n",
       "9   8.447230e-08    5.728627e-10\n",
       "10  1.022579e-07    1.193137e-09\n",
       "11  6.510640e-08    7.080647e-10\n",
       "12  6.829946e-08    7.300444e-10\n",
       "13  6.506861e-08    5.529837e-10\n",
       "14  8.460536e-08    1.088864e-09\n",
       "15  2.098193e-07    1.099940e-09\n",
       "16  6.630913e-08    5.832614e-10\n",
       "17  5.758938e-08    5.437931e-10\n",
       "18  7.547246e-08    6.734050e-10\n",
       "19  5.480854e-08    5.497915e-10"
      ]
     },
     "execution_count": 134,
     "metadata": {},
     "output_type": "execute_result"
    }
   ],
   "source": [
    "mc = bw.MonteCarloLCA(demand2[0], OD)\n",
    "iterations = 20\n",
    "simulations = []\n",
    "\n",
    "for _ in range(iterations):\n",
    "    next(mc)\n",
    "    mcresults= []    \n",
    "    for i in demand2:\n",
    "        mc.redo_lcia(i)\n",
    "        mcresults.append(mc.score)\n",
    "    simulations.append(mcresults)\n",
    "    \n",
    "df_OD = pd.DataFrame(simulations, columns =['Platinum', 'StainlessSteel'])\n",
    "df_OD"
   ]
  },
  {
   "cell_type": "code",
   "execution_count": 135,
   "metadata": {},
   "outputs": [
    {
     "data": {
      "text/html": [
       "<div>\n",
       "<style scoped>\n",
       "    .dataframe tbody tr th:only-of-type {\n",
       "        vertical-align: middle;\n",
       "    }\n",
       "\n",
       "    .dataframe tbody tr th {\n",
       "        vertical-align: top;\n",
       "    }\n",
       "\n",
       "    .dataframe thead th {\n",
       "        text-align: right;\n",
       "    }\n",
       "</style>\n",
       "<table border=\"1\" class=\"dataframe\">\n",
       "  <thead>\n",
       "    <tr style=\"text-align: right;\">\n",
       "      <th></th>\n",
       "      <th>Platinum</th>\n",
       "      <th>StainlessSteel</th>\n",
       "    </tr>\n",
       "  </thead>\n",
       "  <tbody>\n",
       "    <tr>\n",
       "      <th>0</th>\n",
       "      <td>0.010143</td>\n",
       "      <td>0.000106</td>\n",
       "    </tr>\n",
       "    <tr>\n",
       "      <th>1</th>\n",
       "      <td>0.010530</td>\n",
       "      <td>0.000076</td>\n",
       "    </tr>\n",
       "    <tr>\n",
       "      <th>2</th>\n",
       "      <td>0.009136</td>\n",
       "      <td>0.000103</td>\n",
       "    </tr>\n",
       "    <tr>\n",
       "      <th>3</th>\n",
       "      <td>0.007948</td>\n",
       "      <td>0.000157</td>\n",
       "    </tr>\n",
       "    <tr>\n",
       "      <th>4</th>\n",
       "      <td>0.008981</td>\n",
       "      <td>0.000116</td>\n",
       "    </tr>\n",
       "    <tr>\n",
       "      <th>5</th>\n",
       "      <td>0.010167</td>\n",
       "      <td>0.000089</td>\n",
       "    </tr>\n",
       "    <tr>\n",
       "      <th>6</th>\n",
       "      <td>0.009458</td>\n",
       "      <td>0.000143</td>\n",
       "    </tr>\n",
       "    <tr>\n",
       "      <th>7</th>\n",
       "      <td>0.008398</td>\n",
       "      <td>0.000112</td>\n",
       "    </tr>\n",
       "    <tr>\n",
       "      <th>8</th>\n",
       "      <td>0.009155</td>\n",
       "      <td>0.000116</td>\n",
       "    </tr>\n",
       "    <tr>\n",
       "      <th>9</th>\n",
       "      <td>0.008249</td>\n",
       "      <td>0.000095</td>\n",
       "    </tr>\n",
       "    <tr>\n",
       "      <th>10</th>\n",
       "      <td>0.010741</td>\n",
       "      <td>0.000115</td>\n",
       "    </tr>\n",
       "    <tr>\n",
       "      <th>11</th>\n",
       "      <td>0.008795</td>\n",
       "      <td>0.000134</td>\n",
       "    </tr>\n",
       "    <tr>\n",
       "      <th>12</th>\n",
       "      <td>0.008232</td>\n",
       "      <td>0.000096</td>\n",
       "    </tr>\n",
       "    <tr>\n",
       "      <th>13</th>\n",
       "      <td>0.008904</td>\n",
       "      <td>0.000079</td>\n",
       "    </tr>\n",
       "    <tr>\n",
       "      <th>14</th>\n",
       "      <td>0.010421</td>\n",
       "      <td>0.000128</td>\n",
       "    </tr>\n",
       "    <tr>\n",
       "      <th>15</th>\n",
       "      <td>0.009079</td>\n",
       "      <td>0.000124</td>\n",
       "    </tr>\n",
       "    <tr>\n",
       "      <th>16</th>\n",
       "      <td>0.008453</td>\n",
       "      <td>0.000131</td>\n",
       "    </tr>\n",
       "    <tr>\n",
       "      <th>17</th>\n",
       "      <td>0.008939</td>\n",
       "      <td>0.000113</td>\n",
       "    </tr>\n",
       "    <tr>\n",
       "      <th>18</th>\n",
       "      <td>0.009163</td>\n",
       "      <td>0.000193</td>\n",
       "    </tr>\n",
       "    <tr>\n",
       "      <th>19</th>\n",
       "      <td>0.008820</td>\n",
       "      <td>0.000099</td>\n",
       "    </tr>\n",
       "  </tbody>\n",
       "</table>\n",
       "</div>"
      ],
      "text/plain": [
       "    Platinum  StainlessSteel\n",
       "0   0.010143        0.000106\n",
       "1   0.010530        0.000076\n",
       "2   0.009136        0.000103\n",
       "3   0.007948        0.000157\n",
       "4   0.008981        0.000116\n",
       "5   0.010167        0.000089\n",
       "6   0.009458        0.000143\n",
       "7   0.008398        0.000112\n",
       "8   0.009155        0.000116\n",
       "9   0.008249        0.000095\n",
       "10  0.010741        0.000115\n",
       "11  0.008795        0.000134\n",
       "12  0.008232        0.000096\n",
       "13  0.008904        0.000079\n",
       "14  0.010421        0.000128\n",
       "15  0.009079        0.000124\n",
       "16  0.008453        0.000131\n",
       "17  0.008939        0.000113\n",
       "18  0.009163        0.000193\n",
       "19  0.008820        0.000099"
      ]
     },
     "execution_count": 135,
     "metadata": {},
     "output_type": "execute_result"
    }
   ],
   "source": [
    "mc = bw.MonteCarloLCA(demand2[0], POFP)\n",
    "iterations = 20\n",
    "simulations = []\n",
    "\n",
    "for _ in range(iterations):\n",
    "    next(mc)\n",
    "    mcresults= []    \n",
    "    for i in demand2:\n",
    "        mc.redo_lcia(i)\n",
    "        mcresults.append(mc.score)\n",
    "    simulations.append(mcresults)\n",
    "    \n",
    "df_POFP = pd.DataFrame(simulations, columns =['Platinum', 'StainlessSteel'])\n",
    "df_POFP"
   ]
  },
  {
   "cell_type": "markdown",
   "metadata": {},
   "source": [
    "### Visualization of Results (Table, Box Plot)"
   ]
  },
  {
   "cell_type": "code",
   "execution_count": 136,
   "metadata": {},
   "outputs": [
    {
     "data": {
      "text/html": [
       "<div>\n",
       "<style scoped>\n",
       "    .dataframe tbody tr th:only-of-type {\n",
       "        vertical-align: middle;\n",
       "    }\n",
       "\n",
       "    .dataframe tbody tr th {\n",
       "        vertical-align: top;\n",
       "    }\n",
       "\n",
       "    .dataframe thead th {\n",
       "        text-align: right;\n",
       "    }\n",
       "</style>\n",
       "<table border=\"1\" class=\"dataframe\">\n",
       "  <thead>\n",
       "    <tr style=\"text-align: right;\">\n",
       "      <th></th>\n",
       "      <th>Platinum</th>\n",
       "      <th>StainlessSteel</th>\n",
       "    </tr>\n",
       "  </thead>\n",
       "  <tbody>\n",
       "    <tr>\n",
       "      <th>count</th>\n",
       "      <td>20.000000</td>\n",
       "      <td>20.000000</td>\n",
       "    </tr>\n",
       "    <tr>\n",
       "      <th>mean</th>\n",
       "      <td>1.941508</td>\n",
       "      <td>0.018066</td>\n",
       "    </tr>\n",
       "    <tr>\n",
       "      <th>std</th>\n",
       "      <td>0.121757</td>\n",
       "      <td>0.001052</td>\n",
       "    </tr>\n",
       "    <tr>\n",
       "      <th>min</th>\n",
       "      <td>1.742971</td>\n",
       "      <td>0.016377</td>\n",
       "    </tr>\n",
       "    <tr>\n",
       "      <th>25%</th>\n",
       "      <td>1.867571</td>\n",
       "      <td>0.017327</td>\n",
       "    </tr>\n",
       "    <tr>\n",
       "      <th>50%</th>\n",
       "      <td>1.957658</td>\n",
       "      <td>0.017870</td>\n",
       "    </tr>\n",
       "    <tr>\n",
       "      <th>75%</th>\n",
       "      <td>2.023549</td>\n",
       "      <td>0.018753</td>\n",
       "    </tr>\n",
       "    <tr>\n",
       "      <th>max</th>\n",
       "      <td>2.274199</td>\n",
       "      <td>0.020110</td>\n",
       "    </tr>\n",
       "  </tbody>\n",
       "</table>\n",
       "</div>"
      ],
      "text/plain": [
       "        Platinum  StainlessSteel\n",
       "count  20.000000       20.000000\n",
       "mean    1.941508        0.018066\n",
       "std     0.121757        0.001052\n",
       "min     1.742971        0.016377\n",
       "25%     1.867571        0.017327\n",
       "50%     1.957658        0.017870\n",
       "75%     2.023549        0.018753\n",
       "max     2.274199        0.020110"
      ]
     },
     "execution_count": 136,
     "metadata": {},
     "output_type": "execute_result"
    }
   ],
   "source": [
    "# GWP\n",
    "df_GWP2.describe()"
   ]
  },
  {
   "cell_type": "code",
   "execution_count": 137,
   "metadata": {},
   "outputs": [
    {
     "data": {
      "text/html": [
       "<div>\n",
       "<style scoped>\n",
       "    .dataframe tbody tr th:only-of-type {\n",
       "        vertical-align: middle;\n",
       "    }\n",
       "\n",
       "    .dataframe tbody tr th {\n",
       "        vertical-align: top;\n",
       "    }\n",
       "\n",
       "    .dataframe thead th {\n",
       "        text-align: right;\n",
       "    }\n",
       "</style>\n",
       "<table border=\"1\" class=\"dataframe\">\n",
       "  <thead>\n",
       "    <tr style=\"text-align: right;\">\n",
       "      <th></th>\n",
       "      <th>Platinum</th>\n",
       "      <th>StainlessSteel</th>\n",
       "    </tr>\n",
       "  </thead>\n",
       "  <tbody>\n",
       "    <tr>\n",
       "      <th>count</th>\n",
       "      <td>20.000000</td>\n",
       "      <td>20.000000</td>\n",
       "    </tr>\n",
       "    <tr>\n",
       "      <th>mean</th>\n",
       "      <td>0.019214</td>\n",
       "      <td>0.000078</td>\n",
       "    </tr>\n",
       "    <tr>\n",
       "      <th>std</th>\n",
       "      <td>0.001997</td>\n",
       "      <td>0.000012</td>\n",
       "    </tr>\n",
       "    <tr>\n",
       "      <th>min</th>\n",
       "      <td>0.016918</td>\n",
       "      <td>0.000059</td>\n",
       "    </tr>\n",
       "    <tr>\n",
       "      <th>25%</th>\n",
       "      <td>0.017663</td>\n",
       "      <td>0.000071</td>\n",
       "    </tr>\n",
       "    <tr>\n",
       "      <th>50%</th>\n",
       "      <td>0.018754</td>\n",
       "      <td>0.000078</td>\n",
       "    </tr>\n",
       "    <tr>\n",
       "      <th>75%</th>\n",
       "      <td>0.019908</td>\n",
       "      <td>0.000081</td>\n",
       "    </tr>\n",
       "    <tr>\n",
       "      <th>max</th>\n",
       "      <td>0.023932</td>\n",
       "      <td>0.000115</td>\n",
       "    </tr>\n",
       "  </tbody>\n",
       "</table>\n",
       "</div>"
      ],
      "text/plain": [
       "        Platinum  StainlessSteel\n",
       "count  20.000000       20.000000\n",
       "mean    0.019214        0.000078\n",
       "std     0.001997        0.000012\n",
       "min     0.016918        0.000059\n",
       "25%     0.017663        0.000071\n",
       "50%     0.018754        0.000078\n",
       "75%     0.019908        0.000081\n",
       "max     0.023932        0.000115"
      ]
     },
     "execution_count": 137,
     "metadata": {},
     "output_type": "execute_result"
    }
   ],
   "source": [
    "# AP\n",
    "df_AP.describe()"
   ]
  },
  {
   "cell_type": "code",
   "execution_count": 138,
   "metadata": {},
   "outputs": [
    {
     "data": {
      "text/html": [
       "<div>\n",
       "<style scoped>\n",
       "    .dataframe tbody tr th:only-of-type {\n",
       "        vertical-align: middle;\n",
       "    }\n",
       "\n",
       "    .dataframe tbody tr th {\n",
       "        vertical-align: top;\n",
       "    }\n",
       "\n",
       "    .dataframe thead th {\n",
       "        text-align: right;\n",
       "    }\n",
       "</style>\n",
       "<table border=\"1\" class=\"dataframe\">\n",
       "  <thead>\n",
       "    <tr style=\"text-align: right;\">\n",
       "      <th></th>\n",
       "      <th>Platinum</th>\n",
       "      <th>StainlessSteel</th>\n",
       "    </tr>\n",
       "  </thead>\n",
       "  <tbody>\n",
       "    <tr>\n",
       "      <th>count</th>\n",
       "      <td>20.000000</td>\n",
       "      <td>2.000000e+01</td>\n",
       "    </tr>\n",
       "    <tr>\n",
       "      <th>mean</th>\n",
       "      <td>0.000153</td>\n",
       "      <td>1.028305e-06</td>\n",
       "    </tr>\n",
       "    <tr>\n",
       "      <th>std</th>\n",
       "      <td>0.000079</td>\n",
       "      <td>5.820021e-07</td>\n",
       "    </tr>\n",
       "    <tr>\n",
       "      <th>min</th>\n",
       "      <td>0.000027</td>\n",
       "      <td>1.838310e-07</td>\n",
       "    </tr>\n",
       "    <tr>\n",
       "      <th>25%</th>\n",
       "      <td>0.000086</td>\n",
       "      <td>7.192006e-07</td>\n",
       "    </tr>\n",
       "    <tr>\n",
       "      <th>50%</th>\n",
       "      <td>0.000148</td>\n",
       "      <td>9.679944e-07</td>\n",
       "    </tr>\n",
       "    <tr>\n",
       "      <th>75%</th>\n",
       "      <td>0.000195</td>\n",
       "      <td>1.320009e-06</td>\n",
       "    </tr>\n",
       "    <tr>\n",
       "      <th>max</th>\n",
       "      <td>0.000292</td>\n",
       "      <td>2.150067e-06</td>\n",
       "    </tr>\n",
       "  </tbody>\n",
       "</table>\n",
       "</div>"
      ],
      "text/plain": [
       "        Platinum  StainlessSteel\n",
       "count  20.000000    2.000000e+01\n",
       "mean    0.000153    1.028305e-06\n",
       "std     0.000079    5.820021e-07\n",
       "min     0.000027    1.838310e-07\n",
       "25%     0.000086    7.192006e-07\n",
       "50%     0.000148    9.679944e-07\n",
       "75%     0.000195    1.320009e-06\n",
       "max     0.000292    2.150067e-06"
      ]
     },
     "execution_count": 138,
     "metadata": {},
     "output_type": "execute_result"
    }
   ],
   "source": [
    "# EP\n",
    "df_EP.describe()"
   ]
  },
  {
   "cell_type": "code",
   "execution_count": 139,
   "metadata": {},
   "outputs": [
    {
     "data": {
      "text/html": [
       "<div>\n",
       "<style scoped>\n",
       "    .dataframe tbody tr th:only-of-type {\n",
       "        vertical-align: middle;\n",
       "    }\n",
       "\n",
       "    .dataframe tbody tr th {\n",
       "        vertical-align: top;\n",
       "    }\n",
       "\n",
       "    .dataframe thead th {\n",
       "        text-align: right;\n",
       "    }\n",
       "</style>\n",
       "<table border=\"1\" class=\"dataframe\">\n",
       "  <thead>\n",
       "    <tr style=\"text-align: right;\">\n",
       "      <th></th>\n",
       "      <th>Platinum</th>\n",
       "      <th>StainlessSteel</th>\n",
       "    </tr>\n",
       "  </thead>\n",
       "  <tbody>\n",
       "    <tr>\n",
       "      <th>count</th>\n",
       "      <td>20.000000</td>\n",
       "      <td>20.000000</td>\n",
       "    </tr>\n",
       "    <tr>\n",
       "      <th>mean</th>\n",
       "      <td>8.742151</td>\n",
       "      <td>0.119789</td>\n",
       "    </tr>\n",
       "    <tr>\n",
       "      <th>std</th>\n",
       "      <td>2.342435</td>\n",
       "      <td>0.094961</td>\n",
       "    </tr>\n",
       "    <tr>\n",
       "      <th>min</th>\n",
       "      <td>5.461786</td>\n",
       "      <td>0.052056</td>\n",
       "    </tr>\n",
       "    <tr>\n",
       "      <th>25%</th>\n",
       "      <td>7.306982</td>\n",
       "      <td>0.068569</td>\n",
       "    </tr>\n",
       "    <tr>\n",
       "      <th>50%</th>\n",
       "      <td>8.564396</td>\n",
       "      <td>0.089462</td>\n",
       "    </tr>\n",
       "    <tr>\n",
       "      <th>75%</th>\n",
       "      <td>10.624958</td>\n",
       "      <td>0.130947</td>\n",
       "    </tr>\n",
       "    <tr>\n",
       "      <th>max</th>\n",
       "      <td>13.975177</td>\n",
       "      <td>0.469836</td>\n",
       "    </tr>\n",
       "  </tbody>\n",
       "</table>\n",
       "</div>"
      ],
      "text/plain": [
       "        Platinum  StainlessSteel\n",
       "count  20.000000       20.000000\n",
       "mean    8.742151        0.119789\n",
       "std     2.342435        0.094961\n",
       "min     5.461786        0.052056\n",
       "25%     7.306982        0.068569\n",
       "50%     8.564396        0.089462\n",
       "75%    10.624958        0.130947\n",
       "max    13.975177        0.469836"
      ]
     },
     "execution_count": 139,
     "metadata": {},
     "output_type": "execute_result"
    }
   ],
   "source": [
    "# HT\n",
    "df_HT.describe()"
   ]
  },
  {
   "cell_type": "code",
   "execution_count": 140,
   "metadata": {},
   "outputs": [
    {
     "data": {
      "text/html": [
       "<div>\n",
       "<style scoped>\n",
       "    .dataframe tbody tr th:only-of-type {\n",
       "        vertical-align: middle;\n",
       "    }\n",
       "\n",
       "    .dataframe tbody tr th {\n",
       "        vertical-align: top;\n",
       "    }\n",
       "\n",
       "    .dataframe thead th {\n",
       "        text-align: right;\n",
       "    }\n",
       "</style>\n",
       "<table border=\"1\" class=\"dataframe\">\n",
       "  <thead>\n",
       "    <tr style=\"text-align: right;\">\n",
       "      <th></th>\n",
       "      <th>Platinum</th>\n",
       "      <th>StainlessSteel</th>\n",
       "    </tr>\n",
       "  </thead>\n",
       "  <tbody>\n",
       "    <tr>\n",
       "      <th>count</th>\n",
       "      <td>2.000000e+01</td>\n",
       "      <td>2.000000e+01</td>\n",
       "    </tr>\n",
       "    <tr>\n",
       "      <th>mean</th>\n",
       "      <td>8.484071e-08</td>\n",
       "      <td>7.981917e-10</td>\n",
       "    </tr>\n",
       "    <tr>\n",
       "      <th>std</th>\n",
       "      <td>3.597715e-08</td>\n",
       "      <td>2.502635e-10</td>\n",
       "    </tr>\n",
       "    <tr>\n",
       "      <th>min</th>\n",
       "      <td>5.480854e-08</td>\n",
       "      <td>5.230014e-10</td>\n",
       "    </tr>\n",
       "    <tr>\n",
       "      <th>25%</th>\n",
       "      <td>6.509696e-08</td>\n",
       "      <td>5.806618e-10</td>\n",
       "    </tr>\n",
       "    <tr>\n",
       "      <th>50%</th>\n",
       "      <td>7.416854e-08</td>\n",
       "      <td>7.283239e-10</td>\n",
       "    </tr>\n",
       "    <tr>\n",
       "      <th>75%</th>\n",
       "      <td>8.588929e-08</td>\n",
       "      <td>1.002955e-09</td>\n",
       "    </tr>\n",
       "    <tr>\n",
       "      <th>max</th>\n",
       "      <td>2.098193e-07</td>\n",
       "      <td>1.376538e-09</td>\n",
       "    </tr>\n",
       "  </tbody>\n",
       "</table>\n",
       "</div>"
      ],
      "text/plain": [
       "           Platinum  StainlessSteel\n",
       "count  2.000000e+01    2.000000e+01\n",
       "mean   8.484071e-08    7.981917e-10\n",
       "std    3.597715e-08    2.502635e-10\n",
       "min    5.480854e-08    5.230014e-10\n",
       "25%    6.509696e-08    5.806618e-10\n",
       "50%    7.416854e-08    7.283239e-10\n",
       "75%    8.588929e-08    1.002955e-09\n",
       "max    2.098193e-07    1.376538e-09"
      ]
     },
     "execution_count": 140,
     "metadata": {},
     "output_type": "execute_result"
    }
   ],
   "source": [
    "# OD\n",
    "df_OD.describe()"
   ]
  },
  {
   "cell_type": "code",
   "execution_count": 141,
   "metadata": {},
   "outputs": [
    {
     "data": {
      "text/html": [
       "<div>\n",
       "<style scoped>\n",
       "    .dataframe tbody tr th:only-of-type {\n",
       "        vertical-align: middle;\n",
       "    }\n",
       "\n",
       "    .dataframe tbody tr th {\n",
       "        vertical-align: top;\n",
       "    }\n",
       "\n",
       "    .dataframe thead th {\n",
       "        text-align: right;\n",
       "    }\n",
       "</style>\n",
       "<table border=\"1\" class=\"dataframe\">\n",
       "  <thead>\n",
       "    <tr style=\"text-align: right;\">\n",
       "      <th></th>\n",
       "      <th>Platinum</th>\n",
       "      <th>StainlessSteel</th>\n",
       "    </tr>\n",
       "  </thead>\n",
       "  <tbody>\n",
       "    <tr>\n",
       "      <th>count</th>\n",
       "      <td>20.000000</td>\n",
       "      <td>20.000000</td>\n",
       "    </tr>\n",
       "    <tr>\n",
       "      <th>mean</th>\n",
       "      <td>0.009186</td>\n",
       "      <td>0.000116</td>\n",
       "    </tr>\n",
       "    <tr>\n",
       "      <th>std</th>\n",
       "      <td>0.000816</td>\n",
       "      <td>0.000027</td>\n",
       "    </tr>\n",
       "    <tr>\n",
       "      <th>min</th>\n",
       "      <td>0.007948</td>\n",
       "      <td>0.000076</td>\n",
       "    </tr>\n",
       "    <tr>\n",
       "      <th>25%</th>\n",
       "      <td>0.008710</td>\n",
       "      <td>0.000098</td>\n",
       "    </tr>\n",
       "    <tr>\n",
       "      <th>50%</th>\n",
       "      <td>0.009030</td>\n",
       "      <td>0.000114</td>\n",
       "    </tr>\n",
       "    <tr>\n",
       "      <th>75%</th>\n",
       "      <td>0.009630</td>\n",
       "      <td>0.000128</td>\n",
       "    </tr>\n",
       "    <tr>\n",
       "      <th>max</th>\n",
       "      <td>0.010741</td>\n",
       "      <td>0.000193</td>\n",
       "    </tr>\n",
       "  </tbody>\n",
       "</table>\n",
       "</div>"
      ],
      "text/plain": [
       "        Platinum  StainlessSteel\n",
       "count  20.000000       20.000000\n",
       "mean    0.009186        0.000116\n",
       "std     0.000816        0.000027\n",
       "min     0.007948        0.000076\n",
       "25%     0.008710        0.000098\n",
       "50%     0.009030        0.000114\n",
       "75%     0.009630        0.000128\n",
       "max     0.010741        0.000193"
      ]
     },
     "execution_count": 141,
     "metadata": {},
     "output_type": "execute_result"
    }
   ],
   "source": [
    "# POFP\n",
    "df_POFP.describe()"
   ]
  },
  {
   "cell_type": "code",
   "execution_count": 142,
   "metadata": {},
   "outputs": [
    {
     "data": {
      "image/png": "[encoded data removed]",
      "text/plain": [
       "<Figure size 1000x200 with 1 Axes>"
      ]
     },
     "metadata": {},
     "output_type": "display_data"
    },
    {
     "data": {
      "image/png": "[encoded data removed]",
      "text/plain": [
       "<Figure size 1000x200 with 1 Axes>"
      ]
     },
     "metadata": {},
     "output_type": "display_data"
    },
    {
     "data": {
      "image/png": "[encoded data removed]",
      "text/plain": [
       "<Figure size 1000x200 with 1 Axes>"
      ]
     },
     "metadata": {},
     "output_type": "display_data"
    },
    {
     "data": {
      "image/png": "[encoded data removed]",
      "text/plain": [
       "<Figure size 1000x200 with 1 Axes>"
      ]
     },
     "metadata": {},
     "output_type": "display_data"
    },
    {
     "data": {
      "image/png": "[encoded data removed]",
      "text/plain": [
       "<Figure size 1000x200 with 1 Axes>"
      ]
     },
     "metadata": {},
     "output_type": "display_data"
    },
    {
     "data": {
      "image/png": "[encoded data removed]",
      "text/plain": [
       "<Figure size 1000x200 with 1 Axes>"
      ]
     },
     "metadata": {},
     "output_type": "display_data"
    }
   ],
   "source": [
    "import seaborn as sns\n",
    "from matplotlib import rcParams\n",
    "\n",
    "font = {'fontsize': 12,\n",
    "        'fontweight': 'bold',\n",
    "        'horizontalalignment': 'center'}\n",
    "\n",
    "rcParams.update({'figure.autolayout': True})\n",
    "sns.set(style=\"ticks\")\n",
    "\n",
    "mypal = {\"Platinum\": \"gray\",\n",
    "         \"StainlessSteel\": \"blue\"}\n",
    "\n",
    "# Plot for df_GWP2\n",
    "plt.figure(figsize=(10, 2))\n",
    "plt.tick_params(axis='both', which='both', labelsize=14, labelbottom=True)\n",
    "plt.xticks(fontsize=12, fontweight=\"bold\")\n",
    "plt.yticks(fontsize=12, fontweight=\"bold\")\n",
    "plt.title('Global Warming Potential per material', fontdict=font)\n",
    "plt.xlabel(\"kg CO2-eq./kg Production\", fontdict=font)\n",
    "bplot_gwp = sns.boxplot(data=df_GWP2, width=0.5, notch=False, showmeans=True, orient=\"h\", palette=mypal)\n",
    "\n",
    "# Plot for df_AP\n",
    "plt.figure(figsize=(10, 2))\n",
    "plt.tick_params(axis='both', which='both', labelsize=14, labelbottom=True)\n",
    "plt.xticks(fontsize=12, fontweight=\"bold\")\n",
    "plt.yticks(fontsize=12, fontweight=\"bold\")\n",
    "plt.title('Terrestial Acidification per material', fontdict=font)\n",
    "plt.xlabel(\"kg SO2-eq./kg Production\", fontdict=font)\n",
    "bplot_ap = sns.boxplot(data=df_EP, width=0.5, notch=False, showmeans=True, orient=\"h\", palette=mypal)\n",
    "\n",
    "# Plot for df_EP\n",
    "plt.figure(figsize=(10, 2))\n",
    "plt.tick_params(axis='both', which='both', labelsize=14, labelbottom=True)\n",
    "plt.xticks(fontsize=12, fontweight=\"bold\")\n",
    "plt.yticks(fontsize=12, fontweight=\"bold\")\n",
    "plt.title('Freshwater Eutrophication per material', fontdict=font)\n",
    "plt.xlabel(\"kg P-eq./kg Production\", fontdict=font)\n",
    "bplot_ep = sns.boxplot(data=df_EP, width=0.5, notch=False, showmeans=True, orient=\"h\", palette=mypal)\n",
    "\n",
    "# Plot for df_HT\n",
    "plt.figure(figsize=(10, 2))\n",
    "plt.tick_params(axis='both', which='both', labelsize=14, labelbottom=True)\n",
    "plt.xticks(fontsize=12, fontweight=\"bold\")\n",
    "plt.yticks(fontsize=12, fontweight=\"bold\")\n",
    "plt.title('Human toxicity per material', fontdict=font)\n",
    "plt.xlabel(\"kg 1,4- DCB-eq./kg Production\", fontdict=font)\n",
    "bplot_ht = sns.boxplot(data=df_HT, width=0.5, notch=False, showmeans=True, orient=\"h\", palette=mypal)\n",
    "\n",
    "# Plot for df_OD\n",
    "plt.figure(figsize=(10, 2))\n",
    "plt.tick_params(axis='both', which='both', labelsize=14, labelbottom=True)\n",
    "plt.xticks(fontsize=12, fontweight=\"bold\")\n",
    "plt.yticks(fontsize=12, fontweight=\"bold\")\n",
    "plt.title('Ozone Depletion per material', fontdict=font)\n",
    "plt.xlabel(\"kg of CFC-11-eq./kg Production\", fontdict=font)\n",
    "bplot_od = sns.boxplot(data=df_OD, width=0.5, notch=False, showmeans=True, orient=\"h\", palette=mypal)\n",
    "\n",
    "# Plot for df_POFP\n",
    "plt.figure(figsize=(10, 2))\n",
    "plt.tick_params(axis='both', which='both', labelsize=14, labelbottom=True)\n",
    "plt.xticks(fontsize=12, fontweight=\"bold\")\n",
    "plt.yticks(fontsize=12, fontweight=\"bold\")\n",
    "plt.title('Photochemical Oxidant Formation Potential per material', fontdict=font)\n",
    "plt.xlabel(\"kg C2H4-eq./kg Production\", fontdict=font)\n",
    "bplot_pofd = sns.boxplot(data=df_POFP, width=0.5, notch=False, showmeans=True, orient=\"h\", palette=mypal)\n",
    "\n",
    "plt.show()"
   ]
  },
  {
   "cell_type": "code",
   "execution_count": null,
   "metadata": {},
   "outputs": [],
   "source": []
  }
 ],
 "metadata": {
  "kernelspec": {
   "display_name": "Python 3 (ipykernel)",
   "language": "python",
   "name": "python3"
  },
  "language_info": {
   "codemirror_mode": {
    "name": "ipython",
    "version": 3
   },
   "file_extension": ".py",
   "mimetype": "text/x-python",
   "name": "python",
   "nbconvert_exporter": "python",
   "pygments_lexer": "ipython3",
   "version": "3.9.13"
  },
  "toc": {
   "base_numbering": 1,
   "nav_menu": {},
   "number_sections": true,
   "sideBar": true,
   "skip_h1_title": false,
   "title_cell": "Table of Contents",
   "title_sidebar": "Contents",
   "toc_cell": false,
   "toc_position": {},
   "toc_section_display": true,
   "toc_window_display": true
  }
 },
 "nbformat": 4,
 "nbformat_minor": 2
}
